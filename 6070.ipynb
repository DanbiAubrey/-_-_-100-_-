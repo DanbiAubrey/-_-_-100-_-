{
 "cells": [
  {
   "cell_type": "markdown",
   "id": "b1507857",
   "metadata": {},
   "source": [
    "## 6070 : [기초-조건/선택실행구조] 월 입력받아 계절 출력하기(설명)(py) "
   ]
  },
  {
   "cell_type": "code",
   "execution_count": 1,
   "id": "89ba9fef",
   "metadata": {},
   "outputs": [
    {
     "name": "stdout",
     "output_type": "stream",
     "text": [
      "12\n",
      "winter\n"
     ]
    }
   ],
   "source": [
    "month = int(input())\n",
    "\n",
    "if month in (12, 1, 2):\n",
    "    print(\"winter\")\n",
    "elif month in (3, 4, 5):\n",
    "    print(\"spring\")\n",
    "elif month in (6, 7, 8):\n",
    "    print(\"summer\")\n",
    "elif month in (9, 10, 11):\n",
    "    print(\"fall\")"
   ]
  }
 ],
 "metadata": {
  "kernelspec": {
   "display_name": "Python 3 (ipykernel)",
   "language": "python",
   "name": "python3"
  },
  "language_info": {
   "codemirror_mode": {
    "name": "ipython",
    "version": 3
   },
   "file_extension": ".py",
   "mimetype": "text/x-python",
   "name": "python",
   "nbconvert_exporter": "python",
   "pygments_lexer": "ipython3",
   "version": "3.7.16"
  }
 },
 "nbformat": 4,
 "nbformat_minor": 5
}
