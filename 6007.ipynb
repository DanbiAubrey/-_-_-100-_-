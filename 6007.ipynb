{
 "cells": [
  {
   "cell_type": "markdown",
   "id": "6dfdb5fb",
   "metadata": {},
   "source": [
    "## 6007 : [기초-출력] 출력하기07(py)"
   ]
  },
  {
   "cell_type": "code",
   "execution_count": 1,
   "id": "30ff6fe7",
   "metadata": {},
   "outputs": [
    {
     "name": "stdout",
     "output_type": "stream",
     "text": [
      "\"C:\\Download\\'hello'.py\"\n"
     ]
    }
   ],
   "source": [
    "print(\"\\\"C:\\Download\\\\'hello'.py\\\"\")"
   ]
  }
 ],
 "metadata": {
  "kernelspec": {
   "display_name": "Python 3 (ipykernel)",
   "language": "python",
   "name": "python3"
  },
  "language_info": {
   "codemirror_mode": {
    "name": "ipython",
    "version": 3
   },
   "file_extension": ".py",
   "mimetype": "text/x-python",
   "name": "python",
   "nbconvert_exporter": "python",
   "pygments_lexer": "ipython3",
   "version": "3.7.16"
  }
 },
 "nbformat": 4,
 "nbformat_minor": 5
}
