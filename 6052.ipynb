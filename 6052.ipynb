{
 "cells": [
  {
   "cell_type": "markdown",
   "id": "16039aec",
   "metadata": {},
   "source": [
    "## 6052 : [기초-논리연산] 정수 입력받아 참 거짓 평가하기(설명)(py) "
   ]
  },
  {
   "cell_type": "code",
   "execution_count": 1,
   "id": "516c013a",
   "metadata": {},
   "outputs": [
    {
     "name": "stdout",
     "output_type": "stream",
     "text": [
      "0\n",
      "False\n"
     ]
    }
   ],
   "source": [
    "n = int(input())\n",
    "\n",
    "print(bool(n))"
   ]
  }
 ],
 "metadata": {
  "kernelspec": {
   "display_name": "Python 3 (ipykernel)",
   "language": "python",
   "name": "python3"
  },
  "language_info": {
   "codemirror_mode": {
    "name": "ipython",
    "version": 3
   },
   "file_extension": ".py",
   "mimetype": "text/x-python",
   "name": "python",
   "nbconvert_exporter": "python",
   "pygments_lexer": "ipython3",
   "version": "3.7.16"
  }
 },
 "nbformat": 4,
 "nbformat_minor": 5
}
