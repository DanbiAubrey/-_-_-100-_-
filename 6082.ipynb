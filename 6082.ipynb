{
 "cells": [
  {
   "cell_type": "markdown",
   "id": "92bd8624",
   "metadata": {},
   "source": [
    "## 6082 : [기초-종합] 3 6 9 게임의 왕이 되자(설명)(py)"
   ]
  },
  {
   "cell_type": "code",
   "execution_count": 1,
   "id": "26fd0a04",
   "metadata": {},
   "outputs": [
    {
     "name": "stdout",
     "output_type": "stream",
     "text": [
      "9\n",
      "1 2 X 4 5 X 7 8 X "
     ]
    }
   ],
   "source": [
    "n = int(input())\n",
    "\n",
    "numbers = ['3', '6', '9']\n",
    "for i in range(1,n+1):\n",
    "    i = str(i)\n",
    "    if numbers[0] in i or numbers[1] in i or numbers[2] in i:\n",
    "        count = sum(i.count(j) for j in numbers)\n",
    "        print(\"X\"*count, end=\" \")\n",
    "    else:\n",
    "        print(i,end=\" \")"
   ]
  }
 ],
 "metadata": {
  "kernelspec": {
   "display_name": "Python 3 (ipykernel)",
   "language": "python",
   "name": "python3"
  },
  "language_info": {
   "codemirror_mode": {
    "name": "ipython",
    "version": 3
   },
   "file_extension": ".py",
   "mimetype": "text/x-python",
   "name": "python",
   "nbconvert_exporter": "python",
   "pygments_lexer": "ipython3",
   "version": "3.7.16"
  }
 },
 "nbformat": 4,
 "nbformat_minor": 5
}
