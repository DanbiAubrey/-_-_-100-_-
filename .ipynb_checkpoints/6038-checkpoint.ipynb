{
 "cells": [
  {
   "cell_type": "markdown",
   "id": "a1531a29",
   "metadata": {},
   "source": [
    "## 6038 : [기초-산술연산] 정수 2개 입력받아 거듭제곱 계산하기(설명)(py) "
   ]
  },
  {
   "cell_type": "code",
   "execution_count": 2,
   "id": "65c85481",
   "metadata": {},
   "outputs": [
    {
     "name": "stdout",
     "output_type": "stream",
     "text": [
      "2 10\n",
      "1024\n"
     ]
    }
   ],
   "source": [
    "a, b = map(int, input().split())\n",
    "print(a**b)"
   ]
  }
 ],
 "metadata": {
  "kernelspec": {
   "display_name": "Python 3 (ipykernel)",
   "language": "python",
   "name": "python3"
  },
  "language_info": {
   "codemirror_mode": {
    "name": "ipython",
    "version": 3
   },
   "file_extension": ".py",
   "mimetype": "text/x-python",
   "name": "python",
   "nbconvert_exporter": "python",
   "pygments_lexer": "ipython3",
   "version": "3.7.16"
  }
 },
 "nbformat": 4,
 "nbformat_minor": 5
}
