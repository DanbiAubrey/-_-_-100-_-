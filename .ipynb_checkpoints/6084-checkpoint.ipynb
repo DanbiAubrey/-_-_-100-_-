{
 "cells": [
  {
   "cell_type": "markdown",
   "id": "6caf0fbf",
   "metadata": {},
   "source": [
    "## 6084 : [기초-종합] 소리 파일 저장용량 계산하기(py) "
   ]
  },
  {
   "cell_type": "code",
   "execution_count": 5,
   "id": "31dbb0aa",
   "metadata": {},
   "outputs": [
    {
     "name": "stdout",
     "output_type": "stream",
     "text": [
      "44100 16 2 10\n",
      "1.7MB\n"
     ]
    }
   ],
   "source": [
    "h, b, c, s  = map(int, input().split())\n",
    "\n",
    "size = h*b*c*s/8/1024/1024\n",
    "print(\"{:.1f}MB\".format(size))"
   ]
  }
 ],
 "metadata": {
  "kernelspec": {
   "display_name": "Python 3 (ipykernel)",
   "language": "python",
   "name": "python3"
  },
  "language_info": {
   "codemirror_mode": {
    "name": "ipython",
    "version": 3
   },
   "file_extension": ".py",
   "mimetype": "text/x-python",
   "name": "python",
   "nbconvert_exporter": "python",
   "pygments_lexer": "ipython3",
   "version": "3.7.16"
  }
 },
 "nbformat": 4,
 "nbformat_minor": 5
}
