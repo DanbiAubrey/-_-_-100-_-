{
 "cells": [
  {
   "cell_type": "markdown",
   "id": "3c8c2b16",
   "metadata": {},
   "source": [
    "## 6028 : [기초-출력변환] 10진 정수 입력받아 16진수로 출력하기2(설명)(py) 해결"
   ]
  },
  {
   "cell_type": "code",
   "execution_count": 1,
   "id": "bb669b75",
   "metadata": {},
   "outputs": [
    {
     "name": "stdout",
     "output_type": "stream",
     "text": [
      "255\n",
      "FF\n"
     ]
    }
   ],
   "source": [
    "n = int(input())\n",
    "\n",
    "print('%X'%n)"
   ]
  }
 ],
 "metadata": {
  "kernelspec": {
   "display_name": "Python 3 (ipykernel)",
   "language": "python",
   "name": "python3"
  },
  "language_info": {
   "codemirror_mode": {
    "name": "ipython",
    "version": 3
   },
   "file_extension": ".py",
   "mimetype": "text/x-python",
   "name": "python",
   "nbconvert_exporter": "python",
   "pygments_lexer": "ipython3",
   "version": "3.7.16"
  }
 },
 "nbformat": 4,
 "nbformat_minor": 5
}
