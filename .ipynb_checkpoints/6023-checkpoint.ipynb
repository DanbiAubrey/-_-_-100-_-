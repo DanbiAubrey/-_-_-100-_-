{
 "cells": [
  {
   "cell_type": "markdown",
   "id": "30fda00a",
   "metadata": {},
   "source": [
    "## 6023 : [기초-입출력] 시분초 입력받아 분만 출력하기(py) 해"
   ]
  },
  {
   "cell_type": "code",
   "execution_count": 1,
   "id": "f2ac002c",
   "metadata": {},
   "outputs": [
    {
     "name": "stdout",
     "output_type": "stream",
     "text": [
      "17:23:57\n",
      "23\n"
     ]
    }
   ],
   "source": [
    "s = input().split(\":\")\n",
    "\n",
    "print(s[1])"
   ]
  }
 ],
 "metadata": {
  "kernelspec": {
   "display_name": "Python 3 (ipykernel)",
   "language": "python",
   "name": "python3"
  },
  "language_info": {
   "codemirror_mode": {
    "name": "ipython",
    "version": 3
   },
   "file_extension": ".py",
   "mimetype": "text/x-python",
   "name": "python",
   "nbconvert_exporter": "python",
   "pygments_lexer": "ipython3",
   "version": "3.7.16"
  }
 },
 "nbformat": 4,
 "nbformat_minor": 5
}
