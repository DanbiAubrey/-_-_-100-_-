{
 "cells": [
  {
   "cell_type": "markdown",
   "id": "eeb7e4ea",
   "metadata": {},
   "source": [
    "## 6094 : [기초-리스트] 이상한 출석 번호 부르기3(py)"
   ]
  },
  {
   "cell_type": "code",
   "execution_count": 6,
   "id": "44caf007",
   "metadata": {},
   "outputs": [
    {
     "name": "stdout",
     "output_type": "stream",
     "text": [
      "10\n",
      "10 4 2 3 6 6 7 9 8 5\n",
      "2\n"
     ]
    }
   ],
   "source": [
    "n = int(input())\n",
    "numbers = list(map(int, input().split()))\n",
    "\n",
    "cur = numbers[0]\n",
    "\n",
    "for i in range(1,n):\n",
    "    if cur > numbers[i]:\n",
    "        cur = numbers[i]\n",
    "print(cur)"
   ]
  },
  {
   "cell_type": "code",
   "execution_count": 7,
   "id": "cbd78af9",
   "metadata": {},
   "outputs": [
    {
     "name": "stdout",
     "output_type": "stream",
     "text": [
      "10\n",
      "10 4 2 3 6 6 7 9 8 5\n",
      "2\n"
     ]
    }
   ],
   "source": [
    "n = int(input())\n",
    "numbers = list(map(int, input().split()))\n",
    "\n",
    "print(min(numbers))"
   ]
  }
 ],
 "metadata": {
  "kernelspec": {
   "display_name": "Python 3 (ipykernel)",
   "language": "python",
   "name": "python3"
  },
  "language_info": {
   "codemirror_mode": {
    "name": "ipython",
    "version": 3
   },
   "file_extension": ".py",
   "mimetype": "text/x-python",
   "name": "python",
   "nbconvert_exporter": "python",
   "pygments_lexer": "ipython3",
   "version": "3.7.16"
  }
 },
 "nbformat": 4,
 "nbformat_minor": 5
}
