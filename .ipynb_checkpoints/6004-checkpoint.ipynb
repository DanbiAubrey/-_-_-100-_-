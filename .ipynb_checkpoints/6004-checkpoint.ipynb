{
 "cells": [
  {
   "cell_type": "markdown",
   "id": "32f66723",
   "metadata": {},
   "source": [
    "## 6004 : [기초-출력] 출력하기04(설명)(py) "
   ]
  },
  {
   "cell_type": "code",
   "execution_count": 2,
   "id": "25140345",
   "metadata": {},
   "outputs": [
    {
     "name": "stdout",
     "output_type": "stream",
     "text": [
      "'Hello'\n"
     ]
    }
   ],
   "source": [
    "print(\"'Hello'\")"
   ]
  }
 ],
 "metadata": {
  "kernelspec": {
   "display_name": "Python 3 (ipykernel)",
   "language": "python",
   "name": "python3"
  },
  "language_info": {
   "codemirror_mode": {
    "name": "ipython",
    "version": 3
   },
   "file_extension": ".py",
   "mimetype": "text/x-python",
   "name": "python",
   "nbconvert_exporter": "python",
   "pygments_lexer": "ipython3",
   "version": "3.7.16"
  }
 },
 "nbformat": 4,
 "nbformat_minor": 5
}
