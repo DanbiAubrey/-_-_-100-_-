{
 "cells": [
  {
   "cell_type": "markdown",
   "id": "cbae043e",
   "metadata": {},
   "source": [
    "## 6067 : [기초-조건/선택실행구조] 정수 1개 입력받아 분류하기(설명)(py)"
   ]
  },
  {
   "cell_type": "code",
   "execution_count": 3,
   "id": "45d0e899",
   "metadata": {},
   "outputs": [
    {
     "name": "stdout",
     "output_type": "stream",
     "text": [
      "-2147483648\n",
      "A\n"
     ]
    }
   ],
   "source": [
    "n = int(input())\n",
    "\n",
    "if n < 0:\n",
    "    if n % 2 == 0:\n",
    "        print(\"A\")\n",
    "    else:\n",
    "        print(\"B\")\n",
    "else:\n",
    "    if n % 2 == 0:\n",
    "        print(\"C\")\n",
    "    else:\n",
    "        print(\"D\")"
   ]
  }
 ],
 "metadata": {
  "kernelspec": {
   "display_name": "Python 3 (ipykernel)",
   "language": "python",
   "name": "python3"
  },
  "language_info": {
   "codemirror_mode": {
    "name": "ipython",
    "version": 3
   },
   "file_extension": ".py",
   "mimetype": "text/x-python",
   "name": "python",
   "nbconvert_exporter": "python",
   "pygments_lexer": "ipython3",
   "version": "3.7.16"
  }
 },
 "nbformat": 4,
 "nbformat_minor": 5
}
