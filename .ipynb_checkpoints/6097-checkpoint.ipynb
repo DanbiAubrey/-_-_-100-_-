{
 "cells": [
  {
   "cell_type": "markdown",
   "id": "6a2c66b9",
   "metadata": {},
   "source": [
    "## 6097 : [기초-리스트] 설탕과자 뽑기(py) "
   ]
  },
  {
   "cell_type": "code",
   "execution_count": 2,
   "id": "7e375e01",
   "metadata": {},
   "outputs": [
    {
     "name": "stdout",
     "output_type": "stream",
     "text": [
      "5 5\n",
      "3\n",
      "2 0 1 1\n",
      "3 1 2 3\n",
      "4 1 2 5\n",
      "1 1 0 0 0\n",
      "0 0 1 0 1\n",
      "0 0 1 0 1\n",
      "0 0 1 0 1\n",
      "0 0 0 0 1\n"
     ]
    }
   ],
   "source": [
    "h, w = map(int, input().split())\n",
    "matrix = [[\"0\" for _ in range(w)] for _ in range(h)]\n",
    "\n",
    "n = int(input())\n",
    "for _ in range(n):\n",
    "    l, d, x, y = map(int, input().split())\n",
    "    if d == 0:\n",
    "        for i in range(l):\n",
    "            matrix[x-1][y-1+i] = \"1\"\n",
    "    else:\n",
    "        for i in range(l):\n",
    "            matrix[x-1+i][y-1] = \"1\"\n",
    "\n",
    "for k in matrix:\n",
    "    print(\" \".join(k))"
   ]
  }
 ],
 "metadata": {
  "kernelspec": {
   "display_name": "Python 3 (ipykernel)",
   "language": "python",
   "name": "python3"
  },
  "language_info": {
   "codemirror_mode": {
    "name": "ipython",
    "version": 3
   },
   "file_extension": ".py",
   "mimetype": "text/x-python",
   "name": "python",
   "nbconvert_exporter": "python",
   "pygments_lexer": "ipython3",
   "version": "3.7.16"
  }
 },
 "nbformat": 4,
 "nbformat_minor": 5
}
