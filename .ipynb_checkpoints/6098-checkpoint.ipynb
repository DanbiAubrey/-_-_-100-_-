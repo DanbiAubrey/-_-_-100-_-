{
 "cells": [
  {
   "cell_type": "markdown",
   "id": "5187dfd1",
   "metadata": {},
   "source": [
    "## 6098 : [기초-리스트] 성실한 개미(py)"
   ]
  },
  {
   "cell_type": "code",
   "execution_count": 10,
   "id": "abb74531",
   "metadata": {},
   "outputs": [
    {
     "name": "stdout",
     "output_type": "stream",
     "text": [
      "1 1 1 1 1 1 1 1 1 1 1 0 0 1 0 0 0 0 0 1 1 0 0 1 1 1 0 0 0 1 1 0 0 0 0 0 0 1 0 1 1 0 0 0 0 0 0 1 0 1 1 0 0 0 0 1 0 1 0 1 1 0 0 0 0 1 2 1 0 1 1 0 0 0 0 1 0 0 0 1 1 0 0 0 0 0 0 0 0 1 1 1 1 1 1 1 1 1 1 1\n",
      "1 1 1 1 1 1 1 1 1 1\n",
      "1 9 9 1 0 0 0 0 0 1\n",
      "1 0 9 1 1 1 0 0 0 1\n",
      "1 0 9 9 9 9 9 1 0 1\n",
      "1 0 0 0 0 0 9 1 0 1\n",
      "1 0 0 0 0 1 9 1 0 1\n",
      "1 0 0 0 0 1 9 1 0 1\n",
      "1 0 0 0 0 1 0 0 0 1\n",
      "1 0 0 0 0 0 0 0 0 1\n",
      "1 1 1 1 1 1 1 1 1 1\n"
     ]
    }
   ],
   "source": [
    "rows = input().split()\n",
    "matrix = []\n",
    "for i in range(0,10*10,10):\n",
    "    matrix.append(rows[i:i+10])\n",
    "\n",
    "x, y = 1, 1\n",
    "\n",
    "while x<=8 and y<=8:\n",
    "    if matrix[x][y] == \"2\":\n",
    "        matrix[x][y] = \"9\"\n",
    "        break\n",
    "    matrix[x][y] = \"9\"\n",
    "    if matrix[x][y+1] == \"1\" and matrix[x+1][y] == \"1\":\n",
    "        break\n",
    "    elif matrix[x][y+1] == \"1\":\n",
    "        x +=1\n",
    "    else:\n",
    "        y +=1\n",
    "        \n",
    "for k in matrix:\n",
    "    print(\" \".join(k))"
   ]
  }
 ],
 "metadata": {
  "kernelspec": {
   "display_name": "Python 3 (ipykernel)",
   "language": "python",
   "name": "python3"
  },
  "language_info": {
   "codemirror_mode": {
    "name": "ipython",
    "version": 3
   },
   "file_extension": ".py",
   "mimetype": "text/x-python",
   "name": "python",
   "nbconvert_exporter": "python",
   "pygments_lexer": "ipython3",
   "version": "3.7.16"
  }
 },
 "nbformat": 4,
 "nbformat_minor": 5
}
