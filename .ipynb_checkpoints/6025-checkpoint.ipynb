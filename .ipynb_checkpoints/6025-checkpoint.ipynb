{
 "cells": [
  {
   "cell_type": "markdown",
   "id": "1cc17519",
   "metadata": {},
   "source": [
    "## 6025 : [기초-값변환] 정수 2개 입력받아 합 계산하기(설명)(py) 해결"
   ]
  },
  {
   "cell_type": "code",
   "execution_count": 1,
   "id": "933c45f3",
   "metadata": {},
   "outputs": [
    {
     "name": "stdout",
     "output_type": "stream",
     "text": [
      "123 -123\n",
      "0\n"
     ]
    }
   ],
   "source": [
    "a, b = map(int, input().split(' '))\n",
    "\n",
    "print(a+b)"
   ]
  }
 ],
 "metadata": {
  "kernelspec": {
   "display_name": "Python 3 (ipykernel)",
   "language": "python",
   "name": "python3"
  },
  "language_info": {
   "codemirror_mode": {
    "name": "ipython",
    "version": 3
   },
   "file_extension": ".py",
   "mimetype": "text/x-python",
   "name": "python",
   "nbconvert_exporter": "python",
   "pygments_lexer": "ipython3",
   "version": "3.7.16"
  }
 },
 "nbformat": 4,
 "nbformat_minor": 5
}
