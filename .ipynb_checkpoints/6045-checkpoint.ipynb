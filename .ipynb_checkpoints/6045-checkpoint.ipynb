{
 "cells": [
  {
   "cell_type": "markdown",
   "id": "562844c8",
   "metadata": {},
   "source": [
    "## 6045 : [기초-산술연산] 정수 3개 입력받아 합과 평균 출력하기(설명)(py) 해결"
   ]
  },
  {
   "cell_type": "code",
   "execution_count": 1,
   "id": "7675fdbd",
   "metadata": {},
   "outputs": [
    {
     "name": "stdout",
     "output_type": "stream",
     "text": [
      "1 2 3\n",
      "6 2.00\n"
     ]
    }
   ],
   "source": [
    "a,b,c = map(int, input().split())\n",
    "\n",
    "print(a+b+c, end=' ')\n",
    "print(\"{:.2f}\".format((a+b+c)/3))"
   ]
  }
 ],
 "metadata": {
  "kernelspec": {
   "display_name": "Python 3 (ipykernel)",
   "language": "python",
   "name": "python3"
  },
  "language_info": {
   "codemirror_mode": {
    "name": "ipython",
    "version": 3
   },
   "file_extension": ".py",
   "mimetype": "text/x-python",
   "name": "python",
   "nbconvert_exporter": "python",
   "pygments_lexer": "ipython3",
   "version": "3.7.16"
  }
 },
 "nbformat": 4,
 "nbformat_minor": 5
}
