{
 "cells": [
  {
   "cell_type": "markdown",
   "id": "87310d51",
   "metadata": {},
   "source": [
    "## 6031 : [기초-값변환] 정수 입력받아 유니코드 문자로 변환하기(설명)(py) 해결"
   ]
  },
  {
   "cell_type": "code",
   "execution_count": 1,
   "id": "37342b99",
   "metadata": {},
   "outputs": [
    {
     "name": "stdout",
     "output_type": "stream",
     "text": [
      "65\n",
      "A\n"
     ]
    }
   ],
   "source": [
    "n = int(input())\n",
    "\n",
    "print(chr(n))"
   ]
  }
 ],
 "metadata": {
  "kernelspec": {
   "display_name": "Python 3 (ipykernel)",
   "language": "python",
   "name": "python3"
  },
  "language_info": {
   "codemirror_mode": {
    "name": "ipython",
    "version": 3
   },
   "file_extension": ".py",
   "mimetype": "text/x-python",
   "name": "python",
   "nbconvert_exporter": "python",
   "pygments_lexer": "ipython3",
   "version": "3.7.16"
  }
 },
 "nbformat": 4,
 "nbformat_minor": 5
}
