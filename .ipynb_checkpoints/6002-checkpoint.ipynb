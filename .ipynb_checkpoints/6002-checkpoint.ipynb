{
 "cells": [
  {
   "cell_type": "markdown",
   "id": "1ab00fb2",
   "metadata": {},
   "source": [
    "## 6002 : [기초-출력] 출력하기02(설명)(py)"
   ]
  },
  {
   "cell_type": "code",
   "execution_count": 1,
   "id": "7d6bec0b",
   "metadata": {},
   "outputs": [
    {
     "name": "stdout",
     "output_type": "stream",
     "text": [
      "'example_notebook.ipynb' 파일이 현재 디렉토리에 생성되었습니다.\n"
     ]
    }
   ],
   "source": [
    "import nbformat as nbf\n",
    "\n",
    "for i in range(2,99):\n",
    "    # 새로운 노트북 생성\n",
    "    nb = nbf.v4.new_notebook()\n",
    "\n",
    "    # 노트북에 추가할 코드 셀과 마크다운 셀 생성\n",
    "    cells = [\n",
    "        nbf.v4.new_markdown_cell(\"# 새로운 Jupyter Notebook\"),\n",
    "        nbf.v4.new_code_cell(\"print('Hello, world!')\")\n",
    "    ]\n",
    "\n",
    "    # 노트북에 셀 추가\n",
    "    nb['cells'] = cells\n",
    "    \n",
    "    notebook_filename = f\"{6000+i}.ipynb\"\n",
    "    with open(notebook_filename, 'w', encoding='utf-8') as f:\n",
    "        nbf.write(nb, f)\n",
    "\n",
    "print(f\"'{notebook_filename}' has been added to the current directory.\")\n"
   ]
  },
  {
   "cell_type": "code",
   "execution_count": 13,
   "id": "351407ef",
   "metadata": {},
   "outputs": [
    {
     "name": "stdout",
     "output_type": "stream",
     "text": [
      "None\n"
     ]
    }
   ],
   "source": [
    "import requests\n",
    "from bs4 import BeautifulSoup\n",
    "\n",
    "def get_code(url):\n",
    "    reponse = requests.get(url)\n",
    "    html_context = reponse.text\n",
    "    \n",
    "    soup = BeautifulSoup(html_context, 'html.parser')\n",
    "    \n",
    "    ace_line_div = soup.find('div', class_='ace_content')\n",
    "    if ace_line_div:\n",
    "        # 모든 텍스트를 가져옴\n",
    "        text_content = ace_line_div.get_text(separator='')\n",
    "        print(text_content)\n",
    "        \n",
    "get_code(\"https://codeup.kr/submitpage.php?id=6001&sid=39221034&rid=0\")"
   ]
  },
  {
   "cell_type": "code",
   "execution_count": null,
   "id": "ee4cec0e",
   "metadata": {},
   "outputs": [],
   "source": []
  }
 ],
 "metadata": {
  "kernelspec": {
   "display_name": "Python 3 (ipykernel)",
   "language": "python",
   "name": "python3"
  },
  "language_info": {
   "codemirror_mode": {
    "name": "ipython",
    "version": 3
   },
   "file_extension": ".py",
   "mimetype": "text/x-python",
   "name": "python",
   "nbconvert_exporter": "python",
   "pygments_lexer": "ipython3",
   "version": "3.7.16"
  }
 },
 "nbformat": 4,
 "nbformat_minor": 5
}
