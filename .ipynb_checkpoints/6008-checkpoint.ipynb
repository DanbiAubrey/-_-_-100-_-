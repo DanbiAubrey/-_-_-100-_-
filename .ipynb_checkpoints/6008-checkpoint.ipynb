{
 "cells": [
  {
   "cell_type": "markdown",
   "id": "89131850",
   "metadata": {},
   "source": [
    "## 6008 : [기초-출력] 출력하기08(py)"
   ]
  },
  {
   "cell_type": "code",
   "execution_count": 1,
   "id": "3625e038",
   "metadata": {},
   "outputs": [
    {
     "name": "stdout",
     "output_type": "stream",
     "text": [
      "print(\"Hello\\nWorld\")\n"
     ]
    }
   ],
   "source": [
    "print(\"print(\\\"Hello\\\\nWorld\\\")\")"
   ]
  }
 ],
 "metadata": {
  "kernelspec": {
   "display_name": "Python 3 (ipykernel)",
   "language": "python",
   "name": "python3"
  },
  "language_info": {
   "codemirror_mode": {
    "name": "ipython",
    "version": 3
   },
   "file_extension": ".py",
   "mimetype": "text/x-python",
   "name": "python",
   "nbconvert_exporter": "python",
   "pygments_lexer": "ipython3",
   "version": "3.7.16"
  }
 },
 "nbformat": 4,
 "nbformat_minor": 5
}
