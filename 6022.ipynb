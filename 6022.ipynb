{
 "cells": [
  {
   "cell_type": "markdown",
   "id": "de718ae5",
   "metadata": {},
   "source": [
    "## 6022 : [기초-입출력] 연월일 입력받아 나누어 출력하기(설명)(py)"
   ]
  },
  {
   "cell_type": "code",
   "execution_count": 1,
   "id": "500cae14",
   "metadata": {},
   "outputs": [
    {
     "name": "stdout",
     "output_type": "stream",
     "text": [
      "200304\n",
      "20 03 04 "
     ]
    }
   ],
   "source": [
    "s = input()\n",
    "\n",
    "for i in range(0, len(s), 2):\n",
    "    print(s[i:i+2], end=' ')"
   ]
  }
 ],
 "metadata": {
  "kernelspec": {
   "display_name": "Python 3 (ipykernel)",
   "language": "python",
   "name": "python3"
  },
  "language_info": {
   "codemirror_mode": {
    "name": "ipython",
    "version": 3
   },
   "file_extension": ".py",
   "mimetype": "text/x-python",
   "name": "python",
   "nbconvert_exporter": "python",
   "pygments_lexer": "ipython3",
   "version": "3.7.16"
  }
 },
 "nbformat": 4,
 "nbformat_minor": 5
}
