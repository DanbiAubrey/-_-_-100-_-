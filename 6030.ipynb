{
 "cells": [
  {
   "cell_type": "markdown",
   "id": "f1d2e2d7",
   "metadata": {},
   "source": [
    "## 6030 : [기초-값변환] 영문자 1개 입력받아 10진수로 변환하기(설명)(py) 해"
   ]
  },
  {
   "cell_type": "code",
   "execution_count": 1,
   "id": "ce29a102",
   "metadata": {},
   "outputs": [
    {
     "name": "stdout",
     "output_type": "stream",
     "text": [
      "A\n",
      "65\n"
     ]
    }
   ],
   "source": [
    "n = ord(input())\n",
    "\n",
    "print(n)"
   ]
  }
 ],
 "metadata": {
  "kernelspec": {
   "display_name": "Python 3 (ipykernel)",
   "language": "python",
   "name": "python3"
  },
  "language_info": {
   "codemirror_mode": {
    "name": "ipython",
    "version": 3
   },
   "file_extension": ".py",
   "mimetype": "text/x-python",
   "name": "python",
   "nbconvert_exporter": "python",
   "pygments_lexer": "ipython3",
   "version": "3.7.16"
  }
 },
 "nbformat": 4,
 "nbformat_minor": 5
}
