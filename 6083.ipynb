{
 "cells": [
  {
   "cell_type": "markdown",
   "id": "f951e2b5",
   "metadata": {},
   "source": [
    "## 6083 : [기초-종합] 빛 섞어 색 만들기(설명)(py)"
   ]
  },
  {
   "cell_type": "code",
   "execution_count": 3,
   "id": "1e96eb01",
   "metadata": {},
   "outputs": [
    {
     "name": "stdout",
     "output_type": "stream",
     "text": [
      "2 2 2\n",
      "0 0 0\n",
      "0 0 1\n",
      "0 1 0\n",
      "0 1 1\n",
      "1 0 0\n",
      "1 0 1\n",
      "1 1 0\n",
      "1 1 1\n",
      "8\n"
     ]
    }
   ],
   "source": [
    "import itertools\n",
    "\n",
    "r, g, b = map(int, input().split())\n",
    "r = [str(i) for i in range(r)]\n",
    "g = [str(i) for i in range(g)]\n",
    "b = [str(i) for i in range(b)]\n",
    "\n",
    "result = list(itertools.product(r,g,b))\n",
    "\n",
    "for i in result:\n",
    "    print(\" \".join(i))\n",
    "    \n",
    "print(len(result))"
   ]
  }
 ],
 "metadata": {
  "kernelspec": {
   "display_name": "Python 3 (ipykernel)",
   "language": "python",
   "name": "python3"
  },
  "language_info": {
   "codemirror_mode": {
    "name": "ipython",
    "version": 3
   },
   "file_extension": ".py",
   "mimetype": "text/x-python",
   "name": "python",
   "nbconvert_exporter": "python",
   "pygments_lexer": "ipython3",
   "version": "3.7.16"
  }
 },
 "nbformat": 4,
 "nbformat_minor": 5
}
