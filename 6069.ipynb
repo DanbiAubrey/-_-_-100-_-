{
 "cells": [
  {
   "cell_type": "markdown",
   "id": "b14cd111",
   "metadata": {},
   "source": [
    "## 6069 : [기초-조건/선택실행구조] 평가 입력받아 다르게 출력하기(py) "
   ]
  },
  {
   "cell_type": "code",
   "execution_count": 1,
   "id": "800a501a",
   "metadata": {},
   "outputs": [
    {
     "name": "stdout",
     "output_type": "stream",
     "text": [
      "A\n",
      "best!!!\n"
     ]
    }
   ],
   "source": [
    "s = input()\n",
    "\n",
    "if s == \"A\":\n",
    "    print(\"best!!!\")\n",
    "elif s == \"B\":\n",
    "    print(\"good!!\")\n",
    "elif s == \"C\":\n",
    "    print(\"run!\")\n",
    "elif s == \"D\":\n",
    "    print(\"slowly~\")\n",
    "else:\n",
    "    print(\"what?\")"
   ]
  }
 ],
 "metadata": {
  "kernelspec": {
   "display_name": "Python 3 (ipykernel)",
   "language": "python",
   "name": "python3"
  },
  "language_info": {
   "codemirror_mode": {
    "name": "ipython",
    "version": 3
   },
   "file_extension": ".py",
   "mimetype": "text/x-python",
   "name": "python",
   "nbconvert_exporter": "python",
   "pygments_lexer": "ipython3",
   "version": "3.7.16"
  }
 },
 "nbformat": 4,
 "nbformat_minor": 5
}
