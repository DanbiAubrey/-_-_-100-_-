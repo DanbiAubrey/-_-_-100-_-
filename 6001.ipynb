{
 "cells": [
  {
   "cell_type": "code",
   "execution_count": 4,
   "id": "49346b2e",
   "metadata": {},
   "outputs": [
    {
     "name": "stdout",
     "output_type": "stream",
     "text": [
      "5 5\n",
      "3 \n",
      "2 0 1 1\n",
      "3 1 2 3\n",
      "4 1 2 5\n",
      "1 1 0 0 0\n",
      "0 0 1 0 1\n",
      "0 0 1 0 1\n",
      "0 0 1 0 1\n",
      "0 0 0 0 1\n"
     ]
    }
   ],
   "source": [
    "a, b = map(int, input().split())\n",
    "\n",
    "matrix = [[\"0\" for _ in range(a)] for _ in range(b)]\n",
    "\n",
    "n = int(input())\n",
    "for i in range(n):\n",
    "    l,d,x,y = map(int, input().split())\n",
    "    matrix[x-1][y-1] = \"1\"\n",
    "    if bool(d):\n",
    "        for j in range(1,l):\n",
    "            matrix[x-1+j][y-1] = \"1\"\n",
    "    else:\n",
    "        for j in range(1,l):\n",
    "            matrix[x-1][y-1+j] = \"1\"\n",
    "\n",
    "for k in matrix:\n",
    "    print(\" \".join(k))"
   ]
  },
  {
   "cell_type": "markdown",
   "id": "9f2db92d",
   "metadata": {},
   "source": [
    "## n = int(input())\n",
    "\n",
    "answer = [[\"0\" for _ in range(19)] for _ in range(19)]\n",
    "\n",
    "for i in range(n):\n",
    "    x, y = map(int, input().split())\n",
    "    answer[x-1][y-1] = \"1\"\n",
    "    \n",
    "for k in answer:\n",
    "    print(\" \".join(k))"
   ]
  },
  {
   "cell_type": "code",
   "execution_count": null,
   "id": "002aa46f",
   "metadata": {},
   "outputs": [],
   "source": [
    "import itertools\n",
    "\n",
    "r, g, b = map(int, input().split(' '))\n",
    "r = [i for i in range(r)]\n",
    "g = [i for i in range(g)]\n",
    "b = [i for i in range(b)]\n",
    "\n",
    "result = list(itertools.product(r,g,b))\n",
    "\n",
    "for comb in result:\n",
    "    print(comb[0], comb[1], comb[2])\n",
    "\n"
   ]
  },
  {
   "cell_type": "code",
   "execution_count": null,
   "id": "38c7a8c5",
   "metadata": {},
   "outputs": [],
   "source": []
  }
 ],
 "metadata": {
  "kernelspec": {
   "display_name": "Python 3 (ipykernel)",
   "language": "python",
   "name": "python3"
  },
  "language_info": {
   "codemirror_mode": {
    "name": "ipython",
    "version": 3
   },
   "file_extension": ".py",
   "mimetype": "text/x-python",
   "name": "python",
   "nbconvert_exporter": "python",
   "pygments_lexer": "ipython3",
   "version": "3.7.16"
  }
 },
 "nbformat": 4,
 "nbformat_minor": 5
}
