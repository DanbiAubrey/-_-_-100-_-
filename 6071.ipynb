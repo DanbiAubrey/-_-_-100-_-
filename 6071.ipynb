{
 "cells": [
  {
   "cell_type": "markdown",
   "id": "24eb12ea",
   "metadata": {},
   "source": [
    "## 6071 : [기초-반복실행구조] 0 입력될 때까지 무한 출력하기(설명)(py)"
   ]
  },
  {
   "cell_type": "code",
   "execution_count": 1,
   "id": "d923008c",
   "metadata": {},
   "outputs": [
    {
     "name": "stdout",
     "output_type": "stream",
     "text": [
      "7\n",
      "7\n",
      "4\n",
      "4\n",
      "2\n",
      "2\n",
      "3\n",
      "3\n",
      "0\n"
     ]
    }
   ],
   "source": [
    "n = int(input())\n",
    "while n != 0:\n",
    "    print(n)\n",
    "    n = int(input())"
   ]
  }
 ],
 "metadata": {
  "kernelspec": {
   "display_name": "Python 3 (ipykernel)",
   "language": "python",
   "name": "python3"
  },
  "language_info": {
   "codemirror_mode": {
    "name": "ipython",
    "version": 3
   },
   "file_extension": ".py",
   "mimetype": "text/x-python",
   "name": "python",
   "nbconvert_exporter": "python",
   "pygments_lexer": "ipython3",
   "version": "3.7.16"
  }
 },
 "nbformat": 4,
 "nbformat_minor": 5
}
