{
 "cells": [
  {
   "cell_type": "markdown",
   "id": "8a8f7d64",
   "metadata": {},
   "source": [
    "## 6019 : [기초-입출력] 연월일 입력받아 순서 바꿔 출력하기(py)"
   ]
  },
  {
   "cell_type": "code",
   "execution_count": 1,
   "id": "d2a4a85f",
   "metadata": {},
   "outputs": [
    {
     "name": "stdout",
     "output_type": "stream",
     "text": [
      "2020.3.4\n",
      "4-3-2020\n"
     ]
    }
   ],
   "source": [
    "y,m,s = input().split(\".\")\n",
    "\n",
    "print(s,m,y, sep='-')"
   ]
  }
 ],
 "metadata": {
  "kernelspec": {
   "display_name": "Python 3 (ipykernel)",
   "language": "python",
   "name": "python3"
  },
  "language_info": {
   "codemirror_mode": {
    "name": "ipython",
    "version": 3
   },
   "file_extension": ".py",
   "mimetype": "text/x-python",
   "name": "python",
   "nbconvert_exporter": "python",
   "pygments_lexer": "ipython3",
   "version": "3.7.16"
  }
 },
 "nbformat": 4,
 "nbformat_minor": 5
}
