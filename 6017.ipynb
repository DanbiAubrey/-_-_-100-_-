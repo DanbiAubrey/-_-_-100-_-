{
 "cells": [
  {
   "cell_type": "markdown",
   "id": "e5acec78",
   "metadata": {},
   "source": [
    "## 6017 : [기초-입출력] 문장 1개 입력받아 3번 출력하기(설명)(py) "
   ]
  },
  {
   "cell_type": "code",
   "execution_count": 1,
   "id": "6d1cac3d",
   "metadata": {},
   "outputs": [
    {
     "name": "stdout",
     "output_type": "stream",
     "text": [
      "computer science\n",
      "computer science computer science computer science\n"
     ]
    }
   ],
   "source": [
    "s = input()\n",
    "\n",
    "print(s,s,s)"
   ]
  }
 ],
 "metadata": {
  "kernelspec": {
   "display_name": "Python 3 (ipykernel)",
   "language": "python",
   "name": "python3"
  },
  "language_info": {
   "codemirror_mode": {
    "name": "ipython",
    "version": 3
   },
   "file_extension": ".py",
   "mimetype": "text/x-python",
   "name": "python",
   "nbconvert_exporter": "python",
   "pygments_lexer": "ipython3",
   "version": "3.7.16"
  }
 },
 "nbformat": 4,
 "nbformat_minor": 5
}
