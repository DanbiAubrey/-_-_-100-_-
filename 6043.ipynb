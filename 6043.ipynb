{
 "cells": [
  {
   "cell_type": "markdown",
   "id": "be9f1694",
   "metadata": {},
   "source": [
    "## 6043 : [기초-산술연산] 실수 2개 입력받아 나눈 결과 계산하기(py) 해"
   ]
  },
  {
   "cell_type": "code",
   "execution_count": 1,
   "id": "78c839eb",
   "metadata": {},
   "outputs": [
    {
     "name": "stdout",
     "output_type": "stream",
     "text": [
      "10.0 3.0\n",
      "3.333\n"
     ]
    }
   ],
   "source": [
    "a, b = map(float, input().split())\n",
    "\n",
    "print(\"{:.3f}\".format(a/b))"
   ]
  }
 ],
 "metadata": {
  "kernelspec": {
   "display_name": "Python 3 (ipykernel)",
   "language": "python",
   "name": "python3"
  },
  "language_info": {
   "codemirror_mode": {
    "name": "ipython",
    "version": 3
   },
   "file_extension": ".py",
   "mimetype": "text/x-python",
   "name": "python",
   "nbconvert_exporter": "python",
   "pygments_lexer": "ipython3",
   "version": "3.7.16"
  }
 },
 "nbformat": 4,
 "nbformat_minor": 5
}
