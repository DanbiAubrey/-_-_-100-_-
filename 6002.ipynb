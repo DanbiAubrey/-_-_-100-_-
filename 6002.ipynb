{
 "cells": [
  {
   "cell_type": "markdown",
   "id": "1ab00fb2",
   "metadata": {},
   "source": [
    "## 6002 : [기초-출력] 출력하기02(설명)(py)"
   ]
  },
  {
   "cell_type": "code",
   "execution_count": 1,
   "id": "7d6bec0b",
   "metadata": {},
   "outputs": [
    {
     "name": "stdout",
     "output_type": "stream",
     "text": [
      "'example_notebook.ipynb' 파일이 현재 디렉토리에 생성되었습니다.\n"
     ]
    }
   ],
   "source": [
    "import nbformat as nbf\n",
    "\n",
    "for i in range(2,99):\n",
    "    # 새로운 노트북 생성\n",
    "    nb = nbf.v4.new_notebook()\n",
    "\n",
    "    # 노트북에 추가할 코드 셀과 마크다운 셀 생성\n",
    "    cells = [\n",
    "        nbf.v4.new_markdown_cell(\"# 새로운 Jupyter Notebook\"),\n",
    "        nbf.v4.new_code_cell(\"print('Hello, world!')\")\n",
    "    ]\n",
    "\n",
    "    # 노트북에 셀 추가\n",
    "    nb['cells'] = cells\n",
    "    \n",
    "    notebook_filename = f\"{6000+i}.ipynb\"\n",
    "    with open(notebook_filename, 'w', encoding='utf-8') as f:\n",
    "        nbf.write(nb, f)\n",
    "\n",
    "print(f\"'{notebook_filename}' has been added to the current directory.\")\n"
   ]
  },
  {
   "cell_type": "code",
   "execution_count": 29,
   "id": "c2388af4",
   "metadata": {},
   "outputs": [
    {
     "name": "stdout",
     "output_type": "stream",
     "text": [
      "[]\n",
      "로그인 실패\n"
     ]
    }
   ],
   "source": [
    "import requests\n",
    "from bs4 import BeautifulSoup\n",
    "\n",
    "def get_code(data_url):\n",
    "    login_url = 'https://codeup.kr/loginpage.php'  # 로그인 페이지 URL\n",
    "\n",
    "    # 로그인할 때 사용하는 유저 정보 (예시: username, password)\n",
    "    login_data = {\n",
    "        'username': 'akssmdthlteo',\n",
    "        'password': 'Hangeuel0923!'\n",
    "    }\n",
    "    \n",
    "    with requests.Session() as session:\n",
    "    # 로그인 요청\n",
    "        session.post(login_url, data=login_data)\n",
    "\n",
    "         # 로그인 성공 후, 보호된 페이지 요청\n",
    "        response = session.get(data_url)\n",
    "\n",
    "        html_content = response.text\n",
    "\n",
    "        soup = BeautifulSoup(html_content, 'html.parser')\n",
    "\n",
    "        ace_lines = soup.find_all('div', class_='ace_content')\n",
    "        print(ace_lines)\n",
    "        # 각 div 태그 내의 텍스트를 추출하고 출력\n",
    "        for ace_line in ace_lines:\n",
    "            text_content = ace_line.get_text(separator='')\n",
    "            print(text_content)\n",
    "        \n",
    "        if soup.find('svg', text=' 로그 아웃'):\n",
    "            print(\"로그인 성공\")\n",
    "        else:\n",
    "            print(\"로그인 실패\")\n",
    "\n",
    "get_code(\"https://codeup.kr/submitpage.php?id=6001&sid=39221034&rid=0\")"
   ]
  },
  {
   "cell_type": "code",
   "execution_count": null,
   "id": "c1762dcf",
   "metadata": {},
   "outputs": [],
   "source": []
  }
 ],
 "metadata": {
  "kernelspec": {
   "display_name": "Python 3 (ipykernel)",
   "language": "python",
   "name": "python3"
  },
  "language_info": {
   "codemirror_mode": {
    "name": "ipython",
    "version": 3
   },
   "file_extension": ".py",
   "mimetype": "text/x-python",
   "name": "python",
   "nbconvert_exporter": "python",
   "pygments_lexer": "ipython3",
   "version": "3.7.16"
  }
 },
 "nbformat": 4,
 "nbformat_minor": 5
}
