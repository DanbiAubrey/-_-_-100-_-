{
 "cells": [
  {
   "cell_type": "markdown",
   "id": "da7b3878",
   "metadata": {},
   "source": [
    "## 6059 : [기초-비트단위논리연산] 비트단위로 NOT 하여 출력하기(설명)(py)"
   ]
  },
  {
   "cell_type": "code",
   "execution_count": 1,
   "id": "928dbc97",
   "metadata": {},
   "outputs": [
    {
     "name": "stdout",
     "output_type": "stream",
     "text": [
      "2\n",
      "-3\n"
     ]
    }
   ],
   "source": [
    "n = int(input())\n",
    "\n",
    "print(~n)"
   ]
  }
 ],
 "metadata": {
  "kernelspec": {
   "display_name": "Python 3 (ipykernel)",
   "language": "python",
   "name": "python3"
  },
  "language_info": {
   "codemirror_mode": {
    "name": "ipython",
    "version": 3
   },
   "file_extension": ".py",
   "mimetype": "text/x-python",
   "name": "python",
   "nbconvert_exporter": "python",
   "pygments_lexer": "ipython3",
   "version": "3.7.16"
  }
 },
 "nbformat": 4,
 "nbformat_minor": 5
}
