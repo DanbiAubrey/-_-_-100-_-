{
 "cells": [
  {
   "cell_type": "markdown",
   "id": "d9fc5b69",
   "metadata": {},
   "source": [
    "## 6044 : [기초-산술연산] 정수 2개 입력받아 자동 계산하기(py)"
   ]
  },
  {
   "cell_type": "code",
   "execution_count": 1,
   "id": "dfa25b7d",
   "metadata": {},
   "outputs": [
    {
     "name": "stdout",
     "output_type": "stream",
     "text": [
      "10 3\n",
      "13\n",
      "7\n",
      "30\n",
      "3\n",
      "1\n",
      "3.33\n"
     ]
    }
   ],
   "source": [
    "a, b = map(int, input().split())\n",
    "c = format(a / b, \".2f\")\n",
    "\n",
    "print(f\"{a + b}\\n{a - b}\\n{a * b}\\n{a // b}\\n{a % b}\\n{c}\")"
   ]
  }
 ],
 "metadata": {
  "kernelspec": {
   "display_name": "Python 3 (ipykernel)",
   "language": "python",
   "name": "python3"
  },
  "language_info": {
   "codemirror_mode": {
    "name": "ipython",
    "version": 3
   },
   "file_extension": ".py",
   "mimetype": "text/x-python",
   "name": "python",
   "nbconvert_exporter": "python",
   "pygments_lexer": "ipython3",
   "version": "3.7.16"
  }
 },
 "nbformat": 4,
 "nbformat_minor": 5
}
