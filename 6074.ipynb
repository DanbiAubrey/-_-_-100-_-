{
 "cells": [
  {
   "cell_type": "markdown",
   "id": "ae060ff2",
   "metadata": {},
   "source": [
    "## 6074 : [기초-반복실행구조] 문자 1개 입력받아 알파벳 출력하기(설명)(py)"
   ]
  },
  {
   "cell_type": "code",
   "execution_count": 1,
   "id": "288e12d4",
   "metadata": {},
   "outputs": [
    {
     "name": "stdout",
     "output_type": "stream",
     "text": [
      "f\n",
      "a\n",
      "b\n",
      "c\n",
      "d\n",
      "e\n",
      "f\n"
     ]
    }
   ],
   "source": [
    "n = ord(input())\n",
    "t = ord('a')\n",
    "\n",
    "while t<=n:\n",
    "    print(chr(t))\n",
    "    t += 1"
   ]
  }
 ],
 "metadata": {
  "kernelspec": {
   "display_name": "Python 3 (ipykernel)",
   "language": "python",
   "name": "python3"
  },
  "language_info": {
   "codemirror_mode": {
    "name": "ipython",
    "version": 3
   },
   "file_extension": ".py",
   "mimetype": "text/x-python",
   "name": "python",
   "nbconvert_exporter": "python",
   "pygments_lexer": "ipython3",
   "version": "3.7.16"
  }
 },
 "nbformat": 4,
 "nbformat_minor": 5
}
